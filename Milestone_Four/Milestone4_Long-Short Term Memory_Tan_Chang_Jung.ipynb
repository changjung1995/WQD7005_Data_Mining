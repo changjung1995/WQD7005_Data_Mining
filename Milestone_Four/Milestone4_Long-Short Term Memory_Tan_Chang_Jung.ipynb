{
 "cells": [
  {
   "cell_type": "code",
   "execution_count": 1,
   "metadata": {
    "colab": {
     "base_uri": "https://localhost:8080/",
     "height": 34
    },
    "colab_type": "code",
    "id": "8lt_At-mGDaT",
    "outputId": "1d2fbe99-8f7e-46cf-87a4-337b636c3a78"
   },
   "outputs": [],
   "source": [
    "import pandas as pd\n",
    "import numpy as np\n",
    "import matplotlib.pyplot as plt\n",
    "\n",
    "import tensorflow as tf\n",
    "from tensorflow.keras import layers\n",
    "\n",
    "from sklearn.preprocessing import MinMaxScaler\n",
    "\n",
    "import pyodbc"
   ]
  },
  {
   "cell_type": "markdown",
   "metadata": {},
   "source": [
    "### Access data from Hive database"
   ]
  },
  {
   "cell_type": "code",
   "execution_count": 2,
   "metadata": {},
   "outputs": [
    {
     "name": "stdout",
     "output_type": "stream",
     "text": [
      "<pyodbc.Connection object at 0x0000029A602B5C60>\n"
     ]
    }
   ],
   "source": [
    "conn = pyodbc.connect(DSN = \"hive_connection\", autocommit = True, ansi = True)\n",
    "\n",
    "print(conn)"
   ]
  },
  {
   "cell_type": "code",
   "execution_count": 3,
   "metadata": {
    "colab": {},
    "colab_type": "code",
    "id": "IsNGoJT739ky"
   },
   "outputs": [],
   "source": [
    "df = pd.read_sql(\"SELECT * FROM bitcoin\", conn, parse_dates=['Date'])"
   ]
  },
  {
   "cell_type": "code",
   "execution_count": 4,
   "metadata": {
    "colab": {
     "base_uri": "https://localhost:8080/",
     "height": 195
    },
    "colab_type": "code",
    "id": "3WxzLEOZ4WTb",
    "outputId": "6ac4892b-a90d-4302-b66a-2efdf5cfa5e8"
   },
   "outputs": [
    {
     "data": {
      "text/html": [
       "<div>\n",
       "<style scoped>\n",
       "    .dataframe tbody tr th:only-of-type {\n",
       "        vertical-align: middle;\n",
       "    }\n",
       "\n",
       "    .dataframe tbody tr th {\n",
       "        vertical-align: top;\n",
       "    }\n",
       "\n",
       "    .dataframe thead th {\n",
       "        text-align: right;\n",
       "    }\n",
       "</style>\n",
       "<table border=\"1\" class=\"dataframe\">\n",
       "  <thead>\n",
       "    <tr style=\"text-align: right;\">\n",
       "      <th></th>\n",
       "      <th>bitcoin.marketdate</th>\n",
       "      <th>bitcoin.open</th>\n",
       "      <th>bitcoin.high</th>\n",
       "      <th>bitcoin.low</th>\n",
       "      <th>bitcoin.close</th>\n",
       "      <th>bitcoin.volume</th>\n",
       "      <th>bitcoin.marketcapacity</th>\n",
       "    </tr>\n",
       "  </thead>\n",
       "  <tbody>\n",
       "    <tr>\n",
       "      <td>0</td>\n",
       "      <td>2020-05-25</td>\n",
       "      <td>8786.11</td>\n",
       "      <td>8951.01</td>\n",
       "      <td>8719.67</td>\n",
       "      <td>8906.93</td>\n",
       "      <td>3.128816e+10</td>\n",
       "      <td>1.637605e+11</td>\n",
       "    </tr>\n",
       "    <tr>\n",
       "      <td>1</td>\n",
       "      <td>2020-05-24</td>\n",
       "      <td>9212.28</td>\n",
       "      <td>9288.40</td>\n",
       "      <td>8787.25</td>\n",
       "      <td>8790.37</td>\n",
       "      <td>3.251880e+10</td>\n",
       "      <td>1.616104e+11</td>\n",
       "    </tr>\n",
       "    <tr>\n",
       "      <td>2</td>\n",
       "      <td>2020-05-23</td>\n",
       "      <td>9185.06</td>\n",
       "      <td>9302.50</td>\n",
       "      <td>9118.11</td>\n",
       "      <td>9209.29</td>\n",
       "      <td>2.772787e+10</td>\n",
       "      <td>1.693055e+11</td>\n",
       "    </tr>\n",
       "    <tr>\n",
       "      <td>3</td>\n",
       "      <td>2020-05-22</td>\n",
       "      <td>9080.33</td>\n",
       "      <td>9232.94</td>\n",
       "      <td>9008.64</td>\n",
       "      <td>9182.58</td>\n",
       "      <td>2.981077e+10</td>\n",
       "      <td>1.688076e+11</td>\n",
       "    </tr>\n",
       "    <tr>\n",
       "      <td>4</td>\n",
       "      <td>2020-05-21</td>\n",
       "      <td>9522.74</td>\n",
       "      <td>9555.24</td>\n",
       "      <td>8869.93</td>\n",
       "      <td>9081.76</td>\n",
       "      <td>3.932616e+10</td>\n",
       "      <td>1.669480e+11</td>\n",
       "    </tr>\n",
       "  </tbody>\n",
       "</table>\n",
       "</div>"
      ],
      "text/plain": [
       "  bitcoin.marketdate  bitcoin.open  bitcoin.high  bitcoin.low  bitcoin.close  \\\n",
       "0         2020-05-25       8786.11       8951.01      8719.67        8906.93   \n",
       "1         2020-05-24       9212.28       9288.40      8787.25        8790.37   \n",
       "2         2020-05-23       9185.06       9302.50      9118.11        9209.29   \n",
       "3         2020-05-22       9080.33       9232.94      9008.64        9182.58   \n",
       "4         2020-05-21       9522.74       9555.24      8869.93        9081.76   \n",
       "\n",
       "   bitcoin.volume  bitcoin.marketcapacity  \n",
       "0    3.128816e+10            1.637605e+11  \n",
       "1    3.251880e+10            1.616104e+11  \n",
       "2    2.772787e+10            1.693055e+11  \n",
       "3    2.981077e+10            1.688076e+11  \n",
       "4    3.932616e+10            1.669480e+11  "
      ]
     },
     "execution_count": 4,
     "metadata": {},
     "output_type": "execute_result"
    }
   ],
   "source": [
    "df.head()"
   ]
  },
  {
   "cell_type": "code",
   "execution_count": 5,
   "metadata": {
    "colab": {},
    "colab_type": "code",
    "id": "HHqs28dw9iLI"
   },
   "outputs": [],
   "source": [
    "df = df[::-1].reset_index(drop=True) # sort date and reindex"
   ]
  },
  {
   "cell_type": "code",
   "execution_count": 6,
   "metadata": {
    "colab": {
     "base_uri": "https://localhost:8080/",
     "height": 402
    },
    "colab_type": "code",
    "id": "Bu4lWP1U9lOv",
    "outputId": "73c8bfb6-b89b-40e0-cf0e-eb3e3f5d71b9"
   },
   "outputs": [
    {
     "data": {
      "text/html": [
       "<div>\n",
       "<style scoped>\n",
       "    .dataframe tbody tr th:only-of-type {\n",
       "        vertical-align: middle;\n",
       "    }\n",
       "\n",
       "    .dataframe tbody tr th {\n",
       "        vertical-align: top;\n",
       "    }\n",
       "\n",
       "    .dataframe thead th {\n",
       "        text-align: right;\n",
       "    }\n",
       "</style>\n",
       "<table border=\"1\" class=\"dataframe\">\n",
       "  <thead>\n",
       "    <tr style=\"text-align: right;\">\n",
       "      <th></th>\n",
       "      <th>bitcoin.marketdate</th>\n",
       "      <th>bitcoin.open</th>\n",
       "      <th>bitcoin.high</th>\n",
       "      <th>bitcoin.low</th>\n",
       "      <th>bitcoin.close</th>\n",
       "      <th>bitcoin.volume</th>\n",
       "      <th>bitcoin.marketcapacity</th>\n",
       "    </tr>\n",
       "  </thead>\n",
       "  <tbody>\n",
       "    <tr>\n",
       "      <td>0</td>\n",
       "      <td>2013-04-28</td>\n",
       "      <td>135.30</td>\n",
       "      <td>135.98</td>\n",
       "      <td>132.10</td>\n",
       "      <td>134.21</td>\n",
       "      <td>0.000000e+00</td>\n",
       "      <td>1.488567e+09</td>\n",
       "    </tr>\n",
       "    <tr>\n",
       "      <td>1</td>\n",
       "      <td>2013-04-29</td>\n",
       "      <td>134.44</td>\n",
       "      <td>147.49</td>\n",
       "      <td>134.00</td>\n",
       "      <td>144.54</td>\n",
       "      <td>0.000000e+00</td>\n",
       "      <td>1.603769e+09</td>\n",
       "    </tr>\n",
       "    <tr>\n",
       "      <td>2</td>\n",
       "      <td>2013-04-30</td>\n",
       "      <td>144.00</td>\n",
       "      <td>146.93</td>\n",
       "      <td>134.05</td>\n",
       "      <td>139.00</td>\n",
       "      <td>0.000000e+00</td>\n",
       "      <td>1.542813e+09</td>\n",
       "    </tr>\n",
       "    <tr>\n",
       "      <td>3</td>\n",
       "      <td>2013-05-01</td>\n",
       "      <td>139.00</td>\n",
       "      <td>139.89</td>\n",
       "      <td>107.72</td>\n",
       "      <td>116.99</td>\n",
       "      <td>0.000000e+00</td>\n",
       "      <td>1.298955e+09</td>\n",
       "    </tr>\n",
       "    <tr>\n",
       "      <td>4</td>\n",
       "      <td>2013-05-02</td>\n",
       "      <td>116.38</td>\n",
       "      <td>125.60</td>\n",
       "      <td>92.28</td>\n",
       "      <td>105.21</td>\n",
       "      <td>0.000000e+00</td>\n",
       "      <td>1.168517e+09</td>\n",
       "    </tr>\n",
       "    <tr>\n",
       "      <td>...</td>\n",
       "      <td>...</td>\n",
       "      <td>...</td>\n",
       "      <td>...</td>\n",
       "      <td>...</td>\n",
       "      <td>...</td>\n",
       "      <td>...</td>\n",
       "      <td>...</td>\n",
       "    </tr>\n",
       "    <tr>\n",
       "      <td>2580</td>\n",
       "      <td>2020-05-21</td>\n",
       "      <td>9522.74</td>\n",
       "      <td>9555.24</td>\n",
       "      <td>8869.93</td>\n",
       "      <td>9081.76</td>\n",
       "      <td>3.932616e+10</td>\n",
       "      <td>1.669480e+11</td>\n",
       "    </tr>\n",
       "    <tr>\n",
       "      <td>2581</td>\n",
       "      <td>2020-05-22</td>\n",
       "      <td>9080.33</td>\n",
       "      <td>9232.94</td>\n",
       "      <td>9008.64</td>\n",
       "      <td>9182.58</td>\n",
       "      <td>2.981077e+10</td>\n",
       "      <td>1.688076e+11</td>\n",
       "    </tr>\n",
       "    <tr>\n",
       "      <td>2582</td>\n",
       "      <td>2020-05-23</td>\n",
       "      <td>9185.06</td>\n",
       "      <td>9302.50</td>\n",
       "      <td>9118.11</td>\n",
       "      <td>9209.29</td>\n",
       "      <td>2.772787e+10</td>\n",
       "      <td>1.693055e+11</td>\n",
       "    </tr>\n",
       "    <tr>\n",
       "      <td>2583</td>\n",
       "      <td>2020-05-24</td>\n",
       "      <td>9212.28</td>\n",
       "      <td>9288.40</td>\n",
       "      <td>8787.25</td>\n",
       "      <td>8790.37</td>\n",
       "      <td>3.251880e+10</td>\n",
       "      <td>1.616104e+11</td>\n",
       "    </tr>\n",
       "    <tr>\n",
       "      <td>2584</td>\n",
       "      <td>2020-05-25</td>\n",
       "      <td>8786.11</td>\n",
       "      <td>8951.01</td>\n",
       "      <td>8719.67</td>\n",
       "      <td>8906.93</td>\n",
       "      <td>3.128816e+10</td>\n",
       "      <td>1.637605e+11</td>\n",
       "    </tr>\n",
       "  </tbody>\n",
       "</table>\n",
       "<p>2585 rows × 7 columns</p>\n",
       "</div>"
      ],
      "text/plain": [
       "     bitcoin.marketdate  bitcoin.open  bitcoin.high  bitcoin.low  \\\n",
       "0            2013-04-28        135.30        135.98       132.10   \n",
       "1            2013-04-29        134.44        147.49       134.00   \n",
       "2            2013-04-30        144.00        146.93       134.05   \n",
       "3            2013-05-01        139.00        139.89       107.72   \n",
       "4            2013-05-02        116.38        125.60        92.28   \n",
       "...                 ...           ...           ...          ...   \n",
       "2580         2020-05-21       9522.74       9555.24      8869.93   \n",
       "2581         2020-05-22       9080.33       9232.94      9008.64   \n",
       "2582         2020-05-23       9185.06       9302.50      9118.11   \n",
       "2583         2020-05-24       9212.28       9288.40      8787.25   \n",
       "2584         2020-05-25       8786.11       8951.01      8719.67   \n",
       "\n",
       "      bitcoin.close  bitcoin.volume  bitcoin.marketcapacity  \n",
       "0            134.21    0.000000e+00            1.488567e+09  \n",
       "1            144.54    0.000000e+00            1.603769e+09  \n",
       "2            139.00    0.000000e+00            1.542813e+09  \n",
       "3            116.99    0.000000e+00            1.298955e+09  \n",
       "4            105.21    0.000000e+00            1.168517e+09  \n",
       "...             ...             ...                     ...  \n",
       "2580        9081.76    3.932616e+10            1.669480e+11  \n",
       "2581        9182.58    2.981077e+10            1.688076e+11  \n",
       "2582        9209.29    2.772787e+10            1.693055e+11  \n",
       "2583        8790.37    3.251880e+10            1.616104e+11  \n",
       "2584        8906.93    3.128816e+10            1.637605e+11  \n",
       "\n",
       "[2585 rows x 7 columns]"
      ]
     },
     "execution_count": 6,
     "metadata": {},
     "output_type": "execute_result"
    }
   ],
   "source": [
    "df"
   ]
  },
  {
   "cell_type": "code",
   "execution_count": 7,
   "metadata": {
    "colab": {
     "base_uri": "https://localhost:8080/",
     "height": 252
    },
    "colab_type": "code",
    "id": "eOnd7J2lOAU5",
    "outputId": "2c9de295-f0c0-4cae-f377-49fb3fdf01dc"
   },
   "outputs": [
    {
     "name": "stdout",
     "output_type": "stream",
     "text": [
      "<class 'pandas.core.frame.DataFrame'>\n",
      "RangeIndex: 2585 entries, 0 to 2584\n",
      "Data columns (total 7 columns):\n",
      "bitcoin.marketdate        2585 non-null object\n",
      "bitcoin.open              2585 non-null float64\n",
      "bitcoin.high              2585 non-null float64\n",
      "bitcoin.low               2585 non-null float64\n",
      "bitcoin.close             2585 non-null float64\n",
      "bitcoin.volume            2585 non-null float64\n",
      "bitcoin.marketcapacity    2585 non-null float64\n",
      "dtypes: float64(6), object(1)\n",
      "memory usage: 141.5+ KB\n"
     ]
    }
   ],
   "source": [
    "df.info()"
   ]
  },
  {
   "cell_type": "code",
   "execution_count": 8,
   "metadata": {
    "colab": {},
    "colab_type": "code",
    "id": "6amy8ok9OLsW"
   },
   "outputs": [],
   "source": [
    "df = df.set_index('bitcoin.marketdate') # set market date as index of data\n",
    "df.index = pd.to_datetime(df.index)"
   ]
  },
  {
   "cell_type": "code",
   "execution_count": 9,
   "metadata": {
    "colab": {},
    "colab_type": "code",
    "id": "uYQF7fHZ4aZl"
   },
   "outputs": [],
   "source": [
    "def plot_line_graph(line1, label1=None, title='', lw=2):\n",
    "    fig, ax = plt.subplots(1, figsize=(13, 7))\n",
    "    ax.plot(line1, label=label1, linewidth=lw)\n",
    "    ax.set_ylabel('Closing Price', fontsize=14)\n",
    "    ax.set_title(title, fontsize=16)\n",
    "    ax.legend(loc='best', fontsize=16)"
   ]
  },
  {
   "cell_type": "code",
   "execution_count": 10,
   "metadata": {
    "colab": {
     "base_uri": "https://localhost:8080/",
     "height": 463
    },
    "colab_type": "code",
    "id": "GWYGdM8297TH",
    "outputId": "7d45286c-f17c-4c70-f2bf-bd32e105332d"
   },
   "outputs": [
    {
     "name": "stderr",
     "output_type": "stream",
     "text": [
      "C:\\Users\\Tan Chang Jung\\Anaconda3\\lib\\site-packages\\pandas\\plotting\\_matplotlib\\converter.py:103: FutureWarning: Using an implicitly registered datetime converter for a matplotlib plotting method. The converter was registered by pandas on import. Future versions of pandas will require you to explicitly register matplotlib converters.\n",
      "\n",
      "To register the converters:\n",
      "\t>>> from pandas.plotting import register_matplotlib_converters\n",
      "\t>>> register_matplotlib_converters()\n",
      "  warnings.warn(msg, FutureWarning)\n",
      "No handles with labels found to put in legend.\n"
     ]
    },
    {
     "data": {
      "image/png": "[encoded data removed]",
      "text/plain": [
       "<Figure size 936x504 with 1 Axes>"
      ]
     },
     "metadata": {
      "needs_background": "light"
     },
     "output_type": "display_data"
    }
   ],
   "source": [
    "plot_line_graph(df['bitcoin.close'], title='Closing price for Bitcoin')"
   ]
  },
  {
   "cell_type": "code",
   "execution_count": 11,
   "metadata": {
    "colab": {
     "base_uri": "https://localhost:8080/",
     "height": 431
    },
    "colab_type": "code",
    "id": "Jcr8-79CEIOQ",
    "outputId": "b3554d3f-478f-4114-bd12-af9721a05e0f"
   },
   "outputs": [
    {
     "data": {
      "text/html": [
       "<div>\n",
       "<style scoped>\n",
       "    .dataframe tbody tr th:only-of-type {\n",
       "        vertical-align: middle;\n",
       "    }\n",
       "\n",
       "    .dataframe tbody tr th {\n",
       "        vertical-align: top;\n",
       "    }\n",
       "\n",
       "    .dataframe thead th {\n",
       "        text-align: right;\n",
       "    }\n",
       "</style>\n",
       "<table border=\"1\" class=\"dataframe\">\n",
       "  <thead>\n",
       "    <tr style=\"text-align: right;\">\n",
       "      <th></th>\n",
       "      <th>bitcoin.close</th>\n",
       "    </tr>\n",
       "    <tr>\n",
       "      <th>bitcoin.marketdate</th>\n",
       "      <th></th>\n",
       "    </tr>\n",
       "  </thead>\n",
       "  <tbody>\n",
       "    <tr>\n",
       "      <td>2013-04-28</td>\n",
       "      <td>134.21</td>\n",
       "    </tr>\n",
       "    <tr>\n",
       "      <td>2013-04-29</td>\n",
       "      <td>144.54</td>\n",
       "    </tr>\n",
       "    <tr>\n",
       "      <td>2013-04-30</td>\n",
       "      <td>139.00</td>\n",
       "    </tr>\n",
       "    <tr>\n",
       "      <td>2013-05-01</td>\n",
       "      <td>116.99</td>\n",
       "    </tr>\n",
       "    <tr>\n",
       "      <td>2013-05-02</td>\n",
       "      <td>105.21</td>\n",
       "    </tr>\n",
       "    <tr>\n",
       "      <td>...</td>\n",
       "      <td>...</td>\n",
       "    </tr>\n",
       "    <tr>\n",
       "      <td>2020-05-21</td>\n",
       "      <td>9081.76</td>\n",
       "    </tr>\n",
       "    <tr>\n",
       "      <td>2020-05-22</td>\n",
       "      <td>9182.58</td>\n",
       "    </tr>\n",
       "    <tr>\n",
       "      <td>2020-05-23</td>\n",
       "      <td>9209.29</td>\n",
       "    </tr>\n",
       "    <tr>\n",
       "      <td>2020-05-24</td>\n",
       "      <td>8790.37</td>\n",
       "    </tr>\n",
       "    <tr>\n",
       "      <td>2020-05-25</td>\n",
       "      <td>8906.93</td>\n",
       "    </tr>\n",
       "  </tbody>\n",
       "</table>\n",
       "<p>2585 rows × 1 columns</p>\n",
       "</div>"
      ],
      "text/plain": [
       "                    bitcoin.close\n",
       "bitcoin.marketdate               \n",
       "2013-04-28                 134.21\n",
       "2013-04-29                 144.54\n",
       "2013-04-30                 139.00\n",
       "2013-05-01                 116.99\n",
       "2013-05-02                 105.21\n",
       "...                           ...\n",
       "2020-05-21                9081.76\n",
       "2020-05-22                9182.58\n",
       "2020-05-23                9209.29\n",
       "2020-05-24                8790.37\n",
       "2020-05-25                8906.93\n",
       "\n",
       "[2585 rows x 1 columns]"
      ]
     },
     "execution_count": 11,
     "metadata": {},
     "output_type": "execute_result"
    }
   ],
   "source": [
    "df_close = df[['bitcoin.close']]\n",
    "\n",
    "df_close"
   ]
  },
  {
   "cell_type": "code",
   "execution_count": 12,
   "metadata": {
    "colab": {
     "base_uri": "https://localhost:8080/",
     "height": 34
    },
    "colab_type": "code",
    "id": "HCQNHuuQOo8U",
    "outputId": "5cae5157-4b17-40e7-f908-d0529666fadc"
   },
   "outputs": [
    {
     "data": {
      "text/plain": [
       "(2585, 1)"
      ]
     },
     "execution_count": 12,
     "metadata": {},
     "output_type": "execute_result"
    }
   ],
   "source": [
    "df_close.shape"
   ]
  },
  {
   "cell_type": "code",
   "execution_count": 13,
   "metadata": {
    "colab": {},
    "colab_type": "code",
    "id": "g_Z5z3dQOyFi"
   },
   "outputs": [],
   "source": [
    "data = df.iloc[:, 0]\n",
    "history = []\n",
    "target = []\n",
    "length = 90\n",
    "\n",
    "for i in range(len(data)-length):\n",
    "    x = data[i:i+length]\n",
    "    y = data[i+length]\n",
    "    history.append(x)\n",
    "    target.append(y)"
   ]
  },
  {
   "cell_type": "markdown",
   "metadata": {},
   "source": [
    "A sequence of the values in previous 90 days is used to predict the value at time t.\n",
    "\n",
    "The last timestep of the first element is same as the 90th timestep of the original data.\n",
    "\n",
    "The second element of history should be just one timestep shifted version of first element. Therefore, the last timestep in the second element should be equal to the first item of the target variable which is the 91st timestep in the original data."
   ]
  },
  {
   "cell_type": "code",
   "execution_count": 14,
   "metadata": {
    "colab": {
     "base_uri": "https://localhost:8080/",
     "height": 67
    },
    "colab_type": "code",
    "id": "9nryPCv9QDh3",
    "outputId": "3a39a254-0a88-4c10-ce89-c2087d6d129b"
   },
   "outputs": [
    {
     "name": "stdout",
     "output_type": "stream",
     "text": [
      "96.02\n",
      "96.02\n",
      "96.02\n"
     ]
    }
   ],
   "source": [
    "print(history[1][89]) # to make sure the above script is correct\n",
    "print(data[90])\n",
    "print(target[0])"
   ]
  },
  {
   "cell_type": "code",
   "execution_count": 15,
   "metadata": {
    "colab": {},
    "colab_type": "code",
    "id": "4H3fIdc_Q5Y2"
   },
   "outputs": [],
   "source": [
    "history = np.array(history)  # convert data to numpy array and reshape the target\n",
    "\n",
    "target = np.array(target)\n",
    "target = target.reshape(-1,1)"
   ]
  },
  {
   "cell_type": "code",
   "execution_count": 16,
   "metadata": {
    "colab": {
     "base_uri": "https://localhost:8080/",
     "height": 34
    },
    "colab_type": "code",
    "id": "Mtyd0JeKQ-Ku",
    "outputId": "fde3a571-5997-4335-f439-8764ae8ad216"
   },
   "outputs": [
    {
     "name": "stdout",
     "output_type": "stream",
     "text": [
      "(2495, 90) (2495, 1)\n"
     ]
    }
   ],
   "source": [
    "print(history.shape, target.shape)"
   ]
  },
  {
   "cell_type": "code",
   "execution_count": 17,
   "metadata": {
    "colab": {},
    "colab_type": "code",
    "id": "YJKZSKcnRI6F"
   },
   "outputs": [],
   "source": [
    "scaler = MinMaxScaler()\n",
    "history_scaled = scaler.fit_transform(history)\n",
    "target_scaled = scaler.fit_transform(target)"
   ]
  },
  {
   "cell_type": "markdown",
   "metadata": {},
   "source": [
    "Above script used to normalize the data which is squeezing all data points in the range 0 to 1 in a way that the maximum value and minimum values will 1 and 0, respectively. "
   ]
  },
  {
   "cell_type": "code",
   "execution_count": 18,
   "metadata": {
    "colab": {
     "base_uri": "https://localhost:8080/",
     "height": 34
    },
    "colab_type": "code",
    "id": "OJ06XR8oRN0H",
    "outputId": "17ca3796-d680-46dd-aad5-f7efb105f7e4"
   },
   "outputs": [
    {
     "name": "stdout",
     "output_type": "stream",
     "text": [
      "(2495, 90, 1)\n"
     ]
    }
   ],
   "source": [
    "history_scaled = history_scaled.reshape((len(history_scaled), length, 1))\n",
    "\n",
    "print(history_scaled.shape) # reshape the input array to be compatible with LSTM model"
   ]
  },
  {
   "cell_type": "code",
   "execution_count": 19,
   "metadata": {
    "colab": {},
    "colab_type": "code",
    "id": "CJG6dP4dRlNf"
   },
   "outputs": [],
   "source": [
    "X_train = history_scaled[:2400,:,:] # 2400 days used for training whereas 95 days used for testing\n",
    "X_test = history_scaled[2400:,:,:]\n",
    "\n",
    "y_train = target_scaled[:2400,:]\n",
    "y_test = target_scaled[2400:,:]"
   ]
  },
  {
   "cell_type": "markdown",
   "metadata": {},
   "source": [
    "### Build the LSTM model"
   ]
  },
  {
   "cell_type": "code",
   "execution_count": 20,
   "metadata": {
    "colab": {
     "base_uri": "https://localhost:8080/",
     "height": 286
    },
    "colab_type": "code",
    "id": "AyNe1JuKR7V4",
    "outputId": "658f078d-75ea-465b-856f-2aee0adc2b76"
   },
   "outputs": [
    {
     "name": "stdout",
     "output_type": "stream",
     "text": [
      "Model: \"sequential\"\n",
      "_________________________________________________________________\n",
      "Layer (type)                 Output Shape              Param #   \n",
      "=================================================================\n",
      "lstm (LSTM)                  (None, 90, 32)            4352      \n",
      "_________________________________________________________________\n",
      "lstm_1 (LSTM)                (None, 90, 32)            8320      \n",
      "_________________________________________________________________\n",
      "lstm_2 (LSTM)                (None, 32)                8320      \n",
      "_________________________________________________________________\n",
      "dense (Dense)                (None, 1)                 33        \n",
      "=================================================================\n",
      "Total params: 21,025\n",
      "Trainable params: 21,025\n",
      "Non-trainable params: 0\n",
      "_________________________________________________________________\n"
     ]
    }
   ],
   "source": [
    "model = tf.keras.Sequential()\n",
    "model.add(layers.LSTM(units=32, return_sequences=True,\n",
    "                  input_shape=(90,1), dropout=0.2))\n",
    "\n",
    "model.add(layers.LSTM(units=32, return_sequences=True,\n",
    "                  dropout=0.2))\n",
    "\n",
    "model.add(layers.LSTM(units=32, dropout=0.2))\n",
    "\n",
    "model.add(layers.Dense(units=1))\n",
    "\n",
    "model.summary()"
   ]
  },
  {
   "cell_type": "code",
   "execution_count": 21,
   "metadata": {
    "colab": {},
    "colab_type": "code",
    "id": "XGaMbj5XSPqP"
   },
   "outputs": [],
   "source": [
    "model.compile(optimizer='adam', loss='mean_squared_error')"
   ]
  },
  {
   "cell_type": "code",
   "execution_count": 22,
   "metadata": {
    "colab": {
     "base_uri": "https://localhost:8080/",
     "height": 1000
    },
    "colab_type": "code",
    "id": "Weyc9hPdSWZO",
    "outputId": "8eb050c0-36a6-4926-b03e-ab8f511ffe74"
   },
   "outputs": [
    {
     "name": "stdout",
     "output_type": "stream",
     "text": [
      "Epoch 1/30\n",
      "75/75 [==============================] - 3s 40ms/step - loss: 0.0068\n",
      "Epoch 2/30\n",
      "75/75 [==============================] - 4s 48ms/step - loss: 0.0023\n",
      "Epoch 3/30\n",
      "75/75 [==============================] - 4s 47ms/step - loss: 0.0023\n",
      "Epoch 4/30\n",
      "75/75 [==============================] - 4s 47ms/step - loss: 0.0022\n",
      "Epoch 5/30\n",
      "75/75 [==============================] - 4s 51ms/step - loss: 0.0021\n",
      "Epoch 6/30\n",
      "75/75 [==============================] - 4s 49ms/step - loss: 0.0020\n",
      "Epoch 7/30\n",
      "75/75 [==============================] - 4s 48ms/step - loss: 0.0021\n",
      "Epoch 8/30\n",
      "75/75 [==============================] - 4s 51ms/step - loss: 0.0020\n",
      "Epoch 9/30\n",
      "75/75 [==============================] - 4s 48ms/step - loss: 0.0021\n",
      "Epoch 10/30\n",
      "75/75 [==============================] - 4s 52ms/step - loss: 0.0022:\n",
      "Epoch 11/30\n",
      "75/75 [==============================] - 4s 58ms/step - loss: 0.0019\n",
      "Epoch 12/30\n",
      "75/75 [==============================] - 3s 46ms/step - loss: 0.0018\n",
      "Epoch 13/30\n",
      "75/75 [==============================] - 3s 42ms/step - loss: 0.0019\n",
      "Epoch 14/30\n",
      "75/75 [==============================] - 3s 46ms/step - loss: 0.0020: 0s - lo\n",
      "Epoch 15/30\n",
      "75/75 [==============================] - 4s 51ms/step - loss: 0.0019: 0s - loss:\n",
      "Epoch 16/30\n",
      "75/75 [==============================] - 4s 51ms/step - loss: 0.0018\n",
      "Epoch 17/30\n",
      "75/75 [==============================] - 3s 46ms/step - loss: 0.0018: 0s - loss: 0.\n",
      "Epoch 18/30\n",
      "75/75 [==============================] - 4s 49ms/step - loss: 0.0016\n",
      "Epoch 19/30\n",
      "75/75 [==============================] - 4s 54ms/step - loss: 0.0018\n",
      "Epoch 20/30\n",
      "75/75 [==============================] - 4s 57ms/step - loss: 0.0017\n",
      "Epoch 21/30\n",
      "75/75 [==============================] - 4s 51ms/step - loss: 0.0017\n",
      "Epoch 22/30\n",
      "75/75 [==============================] - 4s 51ms/step - loss: 0.0017\n",
      "Epoch 23/30\n",
      "75/75 [==============================] - 4s 52ms/step - loss: 0.0015\n",
      "Epoch 24/30\n",
      "75/75 [==============================] - 4s 58ms/step - loss: 0.0015\n",
      "Epoch 25/30\n",
      "75/75 [==============================] - 4s 52ms/step - loss: 0.0014\n",
      "Epoch 26/30\n",
      "75/75 [==============================] - 4s 48ms/step - loss: 0.0014\n",
      "Epoch 27/30\n",
      "75/75 [==============================] - 4s 48ms/step - loss: 0.0013\n",
      "Epoch 28/30\n",
      "75/75 [==============================] - 4s 48ms/step - loss: 0.0012\n",
      "Epoch 29/30\n",
      "75/75 [==============================] - 4s 48ms/step - loss: 0.0013\n",
      "Epoch 30/30\n",
      "75/75 [==============================] - 4s 48ms/step - loss: 0.0014\n"
     ]
    }
   ],
   "source": [
    "training_history = model.fit(X_train, y_train, epochs=30, batch_size=32)"
   ]
  },
  {
   "cell_type": "code",
   "execution_count": 23,
   "metadata": {
    "colab": {
     "base_uri": "https://localhost:8080/",
     "height": 497
    },
    "colab_type": "code",
    "id": "rNtKzHXDS7E1",
    "outputId": "a1fb626f-226c-4284-f5fd-a532d93d82c2"
   },
   "outputs": [
    {
     "data": {
      "image/png": "[encoded data removed]",
      "text/plain": [
       "<Figure size 864x576 with 1 Axes>"
      ]
     },
     "metadata": {
      "needs_background": "light"
     },
     "output_type": "display_data"
    }
   ],
   "source": [
    "loss = training_history.history['loss']\n",
    "epoch_count = range(1, len(loss) + 1)\n",
    "plt.figure(figsize=(12,8))\n",
    "plt.plot(epoch_count, loss)\n",
    "plt.legend(['Loss'])\n",
    "plt.xlabel('Epoch')\n",
    "plt.ylabel('Loss')\n",
    "plt.show();"
   ]
  },
  {
   "cell_type": "code",
   "execution_count": 24,
   "metadata": {
    "colab": {},
    "colab_type": "code",
    "id": "FGym7J56Uh5h"
   },
   "outputs": [],
   "source": [
    "prediction = model.predict(X_test)"
   ]
  },
  {
   "cell_type": "code",
   "execution_count": 25,
   "metadata": {
    "colab": {
     "base_uri": "https://localhost:8080/",
     "height": 499
    },
    "colab_type": "code",
    "id": "7VXBqoZVUlHt",
    "outputId": "cd7bec4f-a47d-46a4-e654-54cb02f9bb2e"
   },
   "outputs": [
    {
     "data": {
      "image/png": "[encoded data removed]",
      "text/plain": [
       "<Figure size 864x576 with 1 Axes>"
      ]
     },
     "metadata": {
      "needs_background": "light"
     },
     "output_type": "display_data"
    }
   ],
   "source": [
    "plt.figure(figsize=(12,8))\n",
    "plt.plot(y_test, color='blue', label='Actual')\n",
    "plt.plot(prediction, color='red', label='Prediction')\n",
    "plt.title('Bitcoin Closing Price Prediction')\n",
    "plt.legend()\n",
    "plt.show()"
   ]
  },
  {
   "cell_type": "code",
   "execution_count": 27,
   "metadata": {
    "colab": {},
    "colab_type": "code",
    "id": "QnlZNjf8yL8M"
   },
   "outputs": [],
   "source": [
    "prediction_transformed = scaler.inverse_transform(prediction)\n",
    "y_test_transformed = scaler.inverse_transform(y_test)"
   ]
  },
  {
   "cell_type": "code",
   "execution_count": 28,
   "metadata": {
    "colab": {
     "base_uri": "https://localhost:8080/",
     "height": 499
    },
    "colab_type": "code",
    "id": "15szYHKBzBZy",
    "outputId": "c14ddbaa-8f8a-4fe4-b235-85e614cf154a"
   },
   "outputs": [
    {
     "data": {
      "image/png": "[encoded data removed]",
      "text/plain": [
       "<Figure size 864x576 with 1 Axes>"
      ]
     },
     "metadata": {
      "needs_background": "light"
     },
     "output_type": "display_data"
    }
   ],
   "source": [
    "plt.figure(figsize=(12,8))\n",
    "plt.plot(y_test_transformed, color='blue', label='Actual')\n",
    "plt.plot(prediction_transformed, color='red', label='Prediction')\n",
    "plt.title('Bitcoin Closing Price Prediction')\n",
    "plt.legend()\n",
    "plt.show()"
   ]
  },
  {
   "cell_type": "code",
   "execution_count": 29,
   "metadata": {
    "colab": {
     "base_uri": "https://localhost:8080/",
     "height": 50
    },
    "colab_type": "code",
    "id": "VRRkhsJE4E25",
    "outputId": "8d36d94c-3929-4e45-f56e-67a80c1f0b72"
   },
   "outputs": [
    {
     "name": "stdout",
     "output_type": "stream",
     "text": [
      "0.0031855052678051864\n",
      "1196598.7897701836\n"
     ]
    }
   ],
   "source": [
    "from sklearn.metrics import mean_squared_error\n",
    "\n",
    "print(mean_squared_error(prediction, y_test))\n",
    "print(mean_squared_error(prediction_transformed, y_test_transformed))"
   ]
  },
  {
   "cell_type": "markdown",
   "metadata": {
    "colab": {},
    "colab_type": "code",
    "id": "kW1HVhnI5jD_"
   },
   "source": [
    "There is overfitting in the LSTM model.\n",
    "\n",
    "The LSTM model does not perform well since the MSE is high when calculating the difference between actual closing price and predicted."
   ]
  },
  {
   "cell_type": "code",
   "execution_count": null,
   "metadata": {},
   "outputs": [],
   "source": []
  }
 ],
 "metadata": {
  "accelerator": "GPU",
  "colab": {
   "name": "milestone 4.ipynb",
   "provenance": []
  },
  "kernelspec": {
   "display_name": "Python 3",
   "language": "python",
   "name": "python3"
  },
  "language_info": {
   "codemirror_mode": {
    "name": "ipython",
    "version": 3
   },
   "file_extension": ".py",
   "mimetype": "text/x-python",
   "name": "python",
   "nbconvert_exporter": "python",
   "pygments_lexer": "ipython3",
   "version": "3.7.4"
  }
 },
 "nbformat": 4,
 "nbformat_minor": 1
}
